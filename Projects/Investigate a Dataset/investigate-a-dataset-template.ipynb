{
 "cells": [
  {
   "cell_type": "markdown",
   "metadata": {},
   "source": [
    "# Project: Investigating Medical Appointment No Shows\n",
    "\n",
    "by Deepesh Yadav\n",
    "(12/04/2020)\n",
    "\n",
    "## Table of Contents\n",
    "<ul>\n",
    "<li><a href=\"#intro\">Introduction</a></li>\n",
    "<li><a href=\"#wrangling\">Data Wrangling</a></li>\n",
    "<li><a href=\"#eda\">Exploratory Data Analysis</a></li>\n",
    "<li><a href=\"#conclusions\">Conclusions</a></li>\n",
    "</ul>"
   ]
  },
  {
   "cell_type": "markdown",
   "metadata": {},
   "source": [
    "<a id='intro'></a>\n",
    "# Introduction\n",
    "\n",
    "This project is a way to apply the skills I have learned in the module Introduction to Data Analysis. In this project I have investigated a dataset of medical appointment records of public hospitals Brasil.The dataset has some key features like Neighbourhood,Alcoholism,Scholarship, etc. which can help to find the patterns in the dataset.\n",
    "\n",
    "Link to dataset: https://www.kaggle.com/joniarroba/noshowappointments\n",
    "\n",
    "### Dataset Description\n",
    "<table>\n",
    "    <tr>\n",
    "        <th>Name</th>\n",
    "        <th>Value(s)</th>\n",
    "        <th>Description</th>\n",
    "    </tr>\n",
    "    <tr>\n",
    "        <td>PatienID</td>\n",
    "        <td>number</td>\n",
    "        <td>identification of a patient</td>\n",
    "    </tr>\n",
    "    <tr>\n",
    "        <td>AppointmentID</td>\n",
    "        <td>number</td>\n",
    "        <td>identification of each appointment</td>\n",
    "    </tr>\n",
    "    <tr>\n",
    "        <td>Gender</td>\n",
    "        <td>F or M</td>\n",
    "        <td>it says 'F' if female or 'M' if man</td>\n",
    "    </tr>\n",
    "    <tr>\n",
    "        <td>ScheduledDay</td>\n",
    "        <td>date</td>\n",
    "        <td>tells us on what day the patient set up their appointment</td>\n",
    "    </tr>\n",
    "    <tr>\n",
    "        <td>AppointmentDay</td>\n",
    "        <td>date</td>\n",
    "        <td>the day of the actuall appointment, when they have to visit the doctor</td>\n",
    "    </tr>\n",
    "    <tr>\n",
    "        <td>Age</td>\n",
    "        <td>number</td>\n",
    "        <td>how old is the patient</td>\n",
    "    </tr>\n",
    "    <tr>\n",
    "        <td>Neighbourhood</td>\n",
    "        <td>string</td>\n",
    "        <td>indicates the location of the hospital</td>\n",
    "    </tr>\n",
    "    <tr>\n",
    "        <td>Scholarship</td>\n",
    "        <td>0 or 1</td>\n",
    "        <td>indicates whether or not the patient is enrolled in Brasilian welfare program Bolsa Família</td>\n",
    "    </tr>\n",
    "    <tr>\n",
    "        <td>Hipertension</td>\n",
    "        <td>0 or 1</td>\n",
    "        <td>indicates if the patient has hipertension</td>\n",
    "    </tr>\n",
    "    <tr>\n",
    "        <td>Diabetes</td>\n",
    "        <td>0 or 1</td>\n",
    "        <td>indicates if the patient has diabetes</td>\n",
    "    </tr>\n",
    "    <tr>\n",
    "        <td>Alcoholism</td>\n",
    "        <td>0 or 1</td>\n",
    "        <td>indicates if the patient is an alcoholic</td>\n",
    "    </tr>\n",
    "    <tr>\n",
    "        <td>Handcap</td>\n",
    "        <td>0 or 1</td>\n",
    "        <td>indicates if the patient is handicaped</td>\n",
    "    </tr>\n",
    "    <tr>\n",
    "        <td>SMS_received</td>\n",
    "        <td>0 or 1</td>\n",
    "        <td>1 or more messages sent to the patient</td>\n",
    "    </tr>\n",
    "    <tr>\n",
    "        <td>No-show</td>\n",
    "        <td>Yes or No</td>\n",
    "        <td>it says ‘No’ if the patient showed up to their appointment, and ‘Yes’ if they did not show up</td>\n",
    "    </tr>\n",
    "</table>\n",
    "        \n"
   ]
  },
  {
   "cell_type": "markdown",
   "metadata": {},
   "source": [
    "<a id='wrangling'></a>\n",
    "# Data Wrangling"
   ]
  },
  {
   "cell_type": "code",
   "execution_count": 1,
   "metadata": {},
   "outputs": [
    {
     "data": {
      "text/html": [
       "<div>\n",
       "<style scoped>\n",
       "    .dataframe tbody tr th:only-of-type {\n",
       "        vertical-align: middle;\n",
       "    }\n",
       "\n",
       "    .dataframe tbody tr th {\n",
       "        vertical-align: top;\n",
       "    }\n",
       "\n",
       "    .dataframe thead th {\n",
       "        text-align: right;\n",
       "    }\n",
       "</style>\n",
       "<table border=\"1\" class=\"dataframe\">\n",
       "  <thead>\n",
       "    <tr style=\"text-align: right;\">\n",
       "      <th></th>\n",
       "      <th>PatientId</th>\n",
       "      <th>AppointmentID</th>\n",
       "      <th>Gender</th>\n",
       "      <th>ScheduledDay</th>\n",
       "      <th>AppointmentDay</th>\n",
       "      <th>Age</th>\n",
       "      <th>Neighbourhood</th>\n",
       "      <th>Scholarship</th>\n",
       "      <th>Hipertension</th>\n",
       "      <th>Diabetes</th>\n",
       "      <th>Alcoholism</th>\n",
       "      <th>Handcap</th>\n",
       "      <th>SMS_received</th>\n",
       "      <th>No-show</th>\n",
       "    </tr>\n",
       "  </thead>\n",
       "  <tbody>\n",
       "    <tr>\n",
       "      <th>0</th>\n",
       "      <td>2.987250e+13</td>\n",
       "      <td>5642903</td>\n",
       "      <td>F</td>\n",
       "      <td>2016-04-29T18:38:08Z</td>\n",
       "      <td>2016-04-29T00:00:00Z</td>\n",
       "      <td>62</td>\n",
       "      <td>JARDIM DA PENHA</td>\n",
       "      <td>0</td>\n",
       "      <td>1</td>\n",
       "      <td>0</td>\n",
       "      <td>0</td>\n",
       "      <td>0</td>\n",
       "      <td>0</td>\n",
       "      <td>No</td>\n",
       "    </tr>\n",
       "    <tr>\n",
       "      <th>1</th>\n",
       "      <td>5.589978e+14</td>\n",
       "      <td>5642503</td>\n",
       "      <td>M</td>\n",
       "      <td>2016-04-29T16:08:27Z</td>\n",
       "      <td>2016-04-29T00:00:00Z</td>\n",
       "      <td>56</td>\n",
       "      <td>JARDIM DA PENHA</td>\n",
       "      <td>0</td>\n",
       "      <td>0</td>\n",
       "      <td>0</td>\n",
       "      <td>0</td>\n",
       "      <td>0</td>\n",
       "      <td>0</td>\n",
       "      <td>No</td>\n",
       "    </tr>\n",
       "    <tr>\n",
       "      <th>2</th>\n",
       "      <td>4.262962e+12</td>\n",
       "      <td>5642549</td>\n",
       "      <td>F</td>\n",
       "      <td>2016-04-29T16:19:04Z</td>\n",
       "      <td>2016-04-29T00:00:00Z</td>\n",
       "      <td>62</td>\n",
       "      <td>MATA DA PRAIA</td>\n",
       "      <td>0</td>\n",
       "      <td>0</td>\n",
       "      <td>0</td>\n",
       "      <td>0</td>\n",
       "      <td>0</td>\n",
       "      <td>0</td>\n",
       "      <td>No</td>\n",
       "    </tr>\n",
       "    <tr>\n",
       "      <th>3</th>\n",
       "      <td>8.679512e+11</td>\n",
       "      <td>5642828</td>\n",
       "      <td>F</td>\n",
       "      <td>2016-04-29T17:29:31Z</td>\n",
       "      <td>2016-04-29T00:00:00Z</td>\n",
       "      <td>8</td>\n",
       "      <td>PONTAL DE CAMBURI</td>\n",
       "      <td>0</td>\n",
       "      <td>0</td>\n",
       "      <td>0</td>\n",
       "      <td>0</td>\n",
       "      <td>0</td>\n",
       "      <td>0</td>\n",
       "      <td>No</td>\n",
       "    </tr>\n",
       "    <tr>\n",
       "      <th>4</th>\n",
       "      <td>8.841186e+12</td>\n",
       "      <td>5642494</td>\n",
       "      <td>F</td>\n",
       "      <td>2016-04-29T16:07:23Z</td>\n",
       "      <td>2016-04-29T00:00:00Z</td>\n",
       "      <td>56</td>\n",
       "      <td>JARDIM DA PENHA</td>\n",
       "      <td>0</td>\n",
       "      <td>1</td>\n",
       "      <td>1</td>\n",
       "      <td>0</td>\n",
       "      <td>0</td>\n",
       "      <td>0</td>\n",
       "      <td>No</td>\n",
       "    </tr>\n",
       "  </tbody>\n",
       "</table>\n",
       "</div>"
      ],
      "text/plain": [
       "      PatientId  AppointmentID Gender          ScheduledDay  \\\n",
       "0  2.987250e+13        5642903      F  2016-04-29T18:38:08Z   \n",
       "1  5.589978e+14        5642503      M  2016-04-29T16:08:27Z   \n",
       "2  4.262962e+12        5642549      F  2016-04-29T16:19:04Z   \n",
       "3  8.679512e+11        5642828      F  2016-04-29T17:29:31Z   \n",
       "4  8.841186e+12        5642494      F  2016-04-29T16:07:23Z   \n",
       "\n",
       "         AppointmentDay  Age      Neighbourhood  Scholarship  Hipertension  \\\n",
       "0  2016-04-29T00:00:00Z   62    JARDIM DA PENHA            0             1   \n",
       "1  2016-04-29T00:00:00Z   56    JARDIM DA PENHA            0             0   \n",
       "2  2016-04-29T00:00:00Z   62      MATA DA PRAIA            0             0   \n",
       "3  2016-04-29T00:00:00Z    8  PONTAL DE CAMBURI            0             0   \n",
       "4  2016-04-29T00:00:00Z   56    JARDIM DA PENHA            0             1   \n",
       "\n",
       "   Diabetes  Alcoholism  Handcap  SMS_received No-show  \n",
       "0         0           0        0             0      No  \n",
       "1         0           0        0             0      No  \n",
       "2         0           0        0             0      No  \n",
       "3         0           0        0             0      No  \n",
       "4         1           0        0             0      No  "
      ]
     },
     "execution_count": 1,
     "metadata": {},
     "output_type": "execute_result"
    }
   ],
   "source": [
    "import pandas as pd\n",
    "import numpy as np\n",
    "import matplotlib.pyplot as plt\n",
    "import seaborn as sns\n",
    "%matplotlib inline\n",
    "\n",
    "import warnings\n",
    "warnings.filterwarnings('ignore')\n",
    "df = pd.read_csv('noShowAppointmentsDataset.csv')\n",
    "df.head()"
   ]
  },
  {
   "cell_type": "code",
   "execution_count": 2,
   "metadata": {},
   "outputs": [
    {
     "data": {
      "text/plain": [
       "(110527, 14)"
      ]
     },
     "execution_count": 2,
     "metadata": {},
     "output_type": "execute_result"
    }
   ],
   "source": [
    "df.shape"
   ]
  },
  {
   "cell_type": "code",
   "execution_count": 3,
   "metadata": {},
   "outputs": [
    {
     "name": "stdout",
     "output_type": "stream",
     "text": [
      "<class 'pandas.core.frame.DataFrame'>\n",
      "RangeIndex: 110527 entries, 0 to 110526\n",
      "Data columns (total 14 columns):\n",
      " #   Column          Non-Null Count   Dtype  \n",
      "---  ------          --------------   -----  \n",
      " 0   PatientId       110527 non-null  float64\n",
      " 1   AppointmentID   110527 non-null  int64  \n",
      " 2   Gender          110527 non-null  object \n",
      " 3   ScheduledDay    110527 non-null  object \n",
      " 4   AppointmentDay  110527 non-null  object \n",
      " 5   Age             110527 non-null  int64  \n",
      " 6   Neighbourhood   110527 non-null  object \n",
      " 7   Scholarship     110527 non-null  int64  \n",
      " 8   Hipertension    110527 non-null  int64  \n",
      " 9   Diabetes        110527 non-null  int64  \n",
      " 10  Alcoholism      110527 non-null  int64  \n",
      " 11  Handcap         110527 non-null  int64  \n",
      " 12  SMS_received    110527 non-null  int64  \n",
      " 13  No-show         110527 non-null  object \n",
      "dtypes: float64(1), int64(8), object(5)\n",
      "memory usage: 11.8+ MB\n"
     ]
    }
   ],
   "source": [
    "df.info()"
   ]
  },
  {
   "cell_type": "markdown",
   "metadata": {},
   "source": [
    "As we can see all of the columns are full and they don't have any missing values"
   ]
  },
  {
   "cell_type": "code",
   "execution_count": 5,
   "metadata": {},
   "outputs": [
    {
     "data": {
      "text/html": [
       "<div>\n",
       "<style scoped>\n",
       "    .dataframe tbody tr th:only-of-type {\n",
       "        vertical-align: middle;\n",
       "    }\n",
       "\n",
       "    .dataframe tbody tr th {\n",
       "        vertical-align: top;\n",
       "    }\n",
       "\n",
       "    .dataframe thead th {\n",
       "        text-align: right;\n",
       "    }\n",
       "</style>\n",
       "<table border=\"1\" class=\"dataframe\">\n",
       "  <thead>\n",
       "    <tr style=\"text-align: right;\">\n",
       "      <th></th>\n",
       "      <th>PatientId</th>\n",
       "      <th>AppointmentID</th>\n",
       "      <th>Age</th>\n",
       "      <th>Scholarship</th>\n",
       "      <th>Hipertension</th>\n",
       "      <th>Diabetes</th>\n",
       "      <th>Alcoholism</th>\n",
       "      <th>Handcap</th>\n",
       "      <th>SMS_received</th>\n",
       "    </tr>\n",
       "  </thead>\n",
       "  <tbody>\n",
       "    <tr>\n",
       "      <th>count</th>\n",
       "      <td>1.105270e+05</td>\n",
       "      <td>1.105270e+05</td>\n",
       "      <td>110527.000000</td>\n",
       "      <td>110527.000000</td>\n",
       "      <td>110527.000000</td>\n",
       "      <td>110527.000000</td>\n",
       "      <td>110527.000000</td>\n",
       "      <td>110527.000000</td>\n",
       "      <td>110527.000000</td>\n",
       "    </tr>\n",
       "    <tr>\n",
       "      <th>mean</th>\n",
       "      <td>1.474963e+14</td>\n",
       "      <td>5.675305e+06</td>\n",
       "      <td>37.088874</td>\n",
       "      <td>0.098266</td>\n",
       "      <td>0.197246</td>\n",
       "      <td>0.071865</td>\n",
       "      <td>0.030400</td>\n",
       "      <td>0.022248</td>\n",
       "      <td>0.321026</td>\n",
       "    </tr>\n",
       "    <tr>\n",
       "      <th>std</th>\n",
       "      <td>2.560949e+14</td>\n",
       "      <td>7.129575e+04</td>\n",
       "      <td>23.110205</td>\n",
       "      <td>0.297675</td>\n",
       "      <td>0.397921</td>\n",
       "      <td>0.258265</td>\n",
       "      <td>0.171686</td>\n",
       "      <td>0.161543</td>\n",
       "      <td>0.466873</td>\n",
       "    </tr>\n",
       "    <tr>\n",
       "      <th>min</th>\n",
       "      <td>3.921784e+04</td>\n",
       "      <td>5.030230e+06</td>\n",
       "      <td>-1.000000</td>\n",
       "      <td>0.000000</td>\n",
       "      <td>0.000000</td>\n",
       "      <td>0.000000</td>\n",
       "      <td>0.000000</td>\n",
       "      <td>0.000000</td>\n",
       "      <td>0.000000</td>\n",
       "    </tr>\n",
       "    <tr>\n",
       "      <th>25%</th>\n",
       "      <td>4.172614e+12</td>\n",
       "      <td>5.640286e+06</td>\n",
       "      <td>18.000000</td>\n",
       "      <td>0.000000</td>\n",
       "      <td>0.000000</td>\n",
       "      <td>0.000000</td>\n",
       "      <td>0.000000</td>\n",
       "      <td>0.000000</td>\n",
       "      <td>0.000000</td>\n",
       "    </tr>\n",
       "    <tr>\n",
       "      <th>50%</th>\n",
       "      <td>3.173184e+13</td>\n",
       "      <td>5.680573e+06</td>\n",
       "      <td>37.000000</td>\n",
       "      <td>0.000000</td>\n",
       "      <td>0.000000</td>\n",
       "      <td>0.000000</td>\n",
       "      <td>0.000000</td>\n",
       "      <td>0.000000</td>\n",
       "      <td>0.000000</td>\n",
       "    </tr>\n",
       "    <tr>\n",
       "      <th>75%</th>\n",
       "      <td>9.439172e+13</td>\n",
       "      <td>5.725524e+06</td>\n",
       "      <td>55.000000</td>\n",
       "      <td>0.000000</td>\n",
       "      <td>0.000000</td>\n",
       "      <td>0.000000</td>\n",
       "      <td>0.000000</td>\n",
       "      <td>0.000000</td>\n",
       "      <td>1.000000</td>\n",
       "    </tr>\n",
       "    <tr>\n",
       "      <th>max</th>\n",
       "      <td>9.999816e+14</td>\n",
       "      <td>5.790484e+06</td>\n",
       "      <td>115.000000</td>\n",
       "      <td>1.000000</td>\n",
       "      <td>1.000000</td>\n",
       "      <td>1.000000</td>\n",
       "      <td>1.000000</td>\n",
       "      <td>4.000000</td>\n",
       "      <td>1.000000</td>\n",
       "    </tr>\n",
       "  </tbody>\n",
       "</table>\n",
       "</div>"
      ],
      "text/plain": [
       "          PatientId  AppointmentID            Age    Scholarship  \\\n",
       "count  1.105270e+05   1.105270e+05  110527.000000  110527.000000   \n",
       "mean   1.474963e+14   5.675305e+06      37.088874       0.098266   \n",
       "std    2.560949e+14   7.129575e+04      23.110205       0.297675   \n",
       "min    3.921784e+04   5.030230e+06      -1.000000       0.000000   \n",
       "25%    4.172614e+12   5.640286e+06      18.000000       0.000000   \n",
       "50%    3.173184e+13   5.680573e+06      37.000000       0.000000   \n",
       "75%    9.439172e+13   5.725524e+06      55.000000       0.000000   \n",
       "max    9.999816e+14   5.790484e+06     115.000000       1.000000   \n",
       "\n",
       "        Hipertension       Diabetes     Alcoholism        Handcap  \\\n",
       "count  110527.000000  110527.000000  110527.000000  110527.000000   \n",
       "mean        0.197246       0.071865       0.030400       0.022248   \n",
       "std         0.397921       0.258265       0.171686       0.161543   \n",
       "min         0.000000       0.000000       0.000000       0.000000   \n",
       "25%         0.000000       0.000000       0.000000       0.000000   \n",
       "50%         0.000000       0.000000       0.000000       0.000000   \n",
       "75%         0.000000       0.000000       0.000000       0.000000   \n",
       "max         1.000000       1.000000       1.000000       4.000000   \n",
       "\n",
       "        SMS_received  \n",
       "count  110527.000000  \n",
       "mean        0.321026  \n",
       "std         0.466873  \n",
       "min         0.000000  \n",
       "25%         0.000000  \n",
       "50%         0.000000  \n",
       "75%         1.000000  \n",
       "max         1.000000  "
      ]
     },
     "execution_count": 5,
     "metadata": {},
     "output_type": "execute_result"
    }
   ],
   "source": [
    "df.describe()"
   ]
  },
  {
   "cell_type": "markdown",
   "metadata": {},
   "source": [
    "The columns have to be correctly formatted and unified which will be done in data cleaning"
   ]
  },
  {
   "cell_type": "markdown",
   "metadata": {},
   "source": [
    "### Data Cleaning "
   ]
  },
  {
   "cell_type": "code",
   "execution_count": 7,
   "metadata": {},
   "outputs": [
    {
     "data": {
      "text/plain": [
       "Index(['PatientId', 'AppointmentID', 'Gender', 'ScheduledDay',\n",
       "       'AppointmentDay', 'Age', 'Neighbourhood', 'Scholarship', 'Hipertension',\n",
       "       'Diabetes', 'Alcoholism', 'Handcap', 'SMS_received', 'No-show'],\n",
       "      dtype='object')"
      ]
     },
     "execution_count": 7,
     "metadata": {},
     "output_type": "execute_result"
    }
   ],
   "source": [
    "df.columns"
   ]
  },
  {
   "cell_type": "code",
   "execution_count": 8,
   "metadata": {},
   "outputs": [],
   "source": [
    "renamedColumns = {'PatientId':'patient_id','AppointmentID':'appointment_id','Gender':'gender','ScheduledDay':'scheduled_day','AppointmentDay':'appointment_day','Age':'age','Neighbourhood':'neighbourhood','Scholarship':'scholarship','Hipertension':'hypertension','Diabetes':'diabetes','Alcoholism':'alcoholism','Handcap':'handicap','SMS_received':'sms_received','No-show':'no_show'}\n",
    "df.rename(columns=renamedColumns,inplace=True)"
   ]
  },
  {
   "cell_type": "code",
   "execution_count": 9,
   "metadata": {},
   "outputs": [
    {
     "data": {
      "text/plain": [
       "Index(['patient_id', 'appointment_id', 'gender', 'scheduled_day',\n",
       "       'appointment_day', 'age', 'neighbourhood', 'scholarship',\n",
       "       'hypertension', 'diabetes', 'alcoholism', 'handicap', 'sms_received',\n",
       "       'no_show'],\n",
       "      dtype='object')"
      ]
     },
     "execution_count": 9,
     "metadata": {},
     "output_type": "execute_result"
    }
   ],
   "source": [
    "df.columns"
   ]
  },
  {
   "cell_type": "code",
   "execution_count": 10,
   "metadata": {},
   "outputs": [
    {
     "name": "stdout",
     "output_type": "stream",
     "text": [
      "<class 'pandas.core.frame.DataFrame'>\n",
      "RangeIndex: 110527 entries, 0 to 110526\n",
      "Data columns (total 14 columns):\n",
      " #   Column           Non-Null Count   Dtype  \n",
      "---  ------           --------------   -----  \n",
      " 0   patient_id       110527 non-null  float64\n",
      " 1   appointment_id   110527 non-null  int64  \n",
      " 2   gender           110527 non-null  object \n",
      " 3   scheduled_day    110527 non-null  object \n",
      " 4   appointment_day  110527 non-null  object \n",
      " 5   age              110527 non-null  int64  \n",
      " 6   neighbourhood    110527 non-null  object \n",
      " 7   scholarship      110527 non-null  int64  \n",
      " 8   hypertension     110527 non-null  int64  \n",
      " 9   diabetes         110527 non-null  int64  \n",
      " 10  alcoholism       110527 non-null  int64  \n",
      " 11  handicap         110527 non-null  int64  \n",
      " 12  sms_received     110527 non-null  int64  \n",
      " 13  no_show          110527 non-null  object \n",
      "dtypes: float64(1), int64(8), object(5)\n",
      "memory usage: 11.8+ MB\n"
     ]
    }
   ],
   "source": [
    "#another look at the dataset\n",
    "df.info()"
   ]
  },
  {
   "cell_type": "markdown",
   "metadata": {},
   "source": [
    "### Observations \n",
    "1. we have 0 null values in every columns\n",
    "2. we have 13 independent variables and 1 dependent variable\n",
    "3. patient_id column has datatype float which should be changed to int, because generally patient ids are not stored in float values and can be difficult to work with\n",
    "4. the columns for appointment day and scheduled day has datatype of object/string which should be changed to datetime.\n",
    "5. the appointment_day column has no hour specification (filled with 00:00:00). therefore it cannot be determined whether the hour of appointment time had any relation with patients not showing up.\n",
    "6. It can be determined how no-show and show appointments are distributed among days of week.\n",
    "7. It can also be determined how much time has passed between scheduled appointment and the acutal visit."
   ]
  },
  {
   "cell_type": "markdown",
   "metadata": {},
   "source": [
    "### Fixing observations\n",
    "\n",
    "The patient_id column has datatype float which should be changed to int, because generally patient ids are not stored in float values and can be difficult to work with."
   ]
  },
  {
   "cell_type": "code",
   "execution_count": 11,
   "metadata": {},
   "outputs": [
    {
     "name": "stdout",
     "output_type": "stream",
     "text": [
      "Number of non int ids in patient_id is 5\n"
     ]
    },
    {
     "data": {
      "text/html": [
       "<div>\n",
       "<style scoped>\n",
       "    .dataframe tbody tr th:only-of-type {\n",
       "        vertical-align: middle;\n",
       "    }\n",
       "\n",
       "    .dataframe tbody tr th {\n",
       "        vertical-align: top;\n",
       "    }\n",
       "\n",
       "    .dataframe thead th {\n",
       "        text-align: right;\n",
       "    }\n",
       "</style>\n",
       "<table border=\"1\" class=\"dataframe\">\n",
       "  <thead>\n",
       "    <tr style=\"text-align: right;\">\n",
       "      <th></th>\n",
       "      <th>patient_id</th>\n",
       "      <th>appointment_id</th>\n",
       "      <th>gender</th>\n",
       "      <th>scheduled_day</th>\n",
       "      <th>appointment_day</th>\n",
       "      <th>age</th>\n",
       "      <th>neighbourhood</th>\n",
       "      <th>scholarship</th>\n",
       "      <th>hypertension</th>\n",
       "      <th>diabetes</th>\n",
       "      <th>alcoholism</th>\n",
       "      <th>handicap</th>\n",
       "      <th>sms_received</th>\n",
       "      <th>no_show</th>\n",
       "    </tr>\n",
       "  </thead>\n",
       "  <tbody>\n",
       "    <tr>\n",
       "      <th>3950</th>\n",
       "      <td>93779.52927</td>\n",
       "      <td>5712759</td>\n",
       "      <td>F</td>\n",
       "      <td>2016-05-18T09:12:29Z</td>\n",
       "      <td>2016-05-18T00:00:00Z</td>\n",
       "      <td>33</td>\n",
       "      <td>CENTRO</td>\n",
       "      <td>0</td>\n",
       "      <td>0</td>\n",
       "      <td>0</td>\n",
       "      <td>0</td>\n",
       "      <td>0</td>\n",
       "      <td>0</td>\n",
       "      <td>No</td>\n",
       "    </tr>\n",
       "    <tr>\n",
       "      <th>73228</th>\n",
       "      <td>537615.28476</td>\n",
       "      <td>5637728</td>\n",
       "      <td>F</td>\n",
       "      <td>2016-04-29T07:19:57Z</td>\n",
       "      <td>2016-05-06T00:00:00Z</td>\n",
       "      <td>14</td>\n",
       "      <td>FORTE SÃO JOÃO</td>\n",
       "      <td>0</td>\n",
       "      <td>0</td>\n",
       "      <td>0</td>\n",
       "      <td>0</td>\n",
       "      <td>0</td>\n",
       "      <td>1</td>\n",
       "      <td>No</td>\n",
       "    </tr>\n",
       "    <tr>\n",
       "      <th>73303</th>\n",
       "      <td>141724.16655</td>\n",
       "      <td>5637648</td>\n",
       "      <td>M</td>\n",
       "      <td>2016-04-29T07:13:36Z</td>\n",
       "      <td>2016-05-02T00:00:00Z</td>\n",
       "      <td>12</td>\n",
       "      <td>FORTE SÃO JOÃO</td>\n",
       "      <td>0</td>\n",
       "      <td>0</td>\n",
       "      <td>0</td>\n",
       "      <td>0</td>\n",
       "      <td>0</td>\n",
       "      <td>0</td>\n",
       "      <td>No</td>\n",
       "    </tr>\n",
       "    <tr>\n",
       "      <th>100517</th>\n",
       "      <td>39217.84439</td>\n",
       "      <td>5751990</td>\n",
       "      <td>F</td>\n",
       "      <td>2016-05-31T10:56:41Z</td>\n",
       "      <td>2016-06-03T00:00:00Z</td>\n",
       "      <td>44</td>\n",
       "      <td>PRAIA DO SUÁ</td>\n",
       "      <td>0</td>\n",
       "      <td>0</td>\n",
       "      <td>0</td>\n",
       "      <td>0</td>\n",
       "      <td>0</td>\n",
       "      <td>0</td>\n",
       "      <td>No</td>\n",
       "    </tr>\n",
       "    <tr>\n",
       "      <th>105430</th>\n",
       "      <td>43741.75652</td>\n",
       "      <td>5760144</td>\n",
       "      <td>M</td>\n",
       "      <td>2016-06-01T14:22:58Z</td>\n",
       "      <td>2016-06-01T00:00:00Z</td>\n",
       "      <td>39</td>\n",
       "      <td>MARIA ORTIZ</td>\n",
       "      <td>0</td>\n",
       "      <td>0</td>\n",
       "      <td>1</td>\n",
       "      <td>0</td>\n",
       "      <td>0</td>\n",
       "      <td>0</td>\n",
       "      <td>No</td>\n",
       "    </tr>\n",
       "  </tbody>\n",
       "</table>\n",
       "</div>"
      ],
      "text/plain": [
       "          patient_id  appointment_id gender         scheduled_day  \\\n",
       "3950     93779.52927         5712759      F  2016-05-18T09:12:29Z   \n",
       "73228   537615.28476         5637728      F  2016-04-29T07:19:57Z   \n",
       "73303   141724.16655         5637648      M  2016-04-29T07:13:36Z   \n",
       "100517   39217.84439         5751990      F  2016-05-31T10:56:41Z   \n",
       "105430   43741.75652         5760144      M  2016-06-01T14:22:58Z   \n",
       "\n",
       "             appointment_day  age   neighbourhood  scholarship  hypertension  \\\n",
       "3950    2016-05-18T00:00:00Z   33          CENTRO            0             0   \n",
       "73228   2016-05-06T00:00:00Z   14  FORTE SÃO JOÃO            0             0   \n",
       "73303   2016-05-02T00:00:00Z   12  FORTE SÃO JOÃO            0             0   \n",
       "100517  2016-06-03T00:00:00Z   44    PRAIA DO SUÁ            0             0   \n",
       "105430  2016-06-01T00:00:00Z   39     MARIA ORTIZ            0             0   \n",
       "\n",
       "        diabetes  alcoholism  handicap  sms_received no_show  \n",
       "3950           0           0         0             0      No  \n",
       "73228          0           0         0             1      No  \n",
       "73303          0           0         0             0      No  \n",
       "100517         0           0         0             0      No  \n",
       "105430         1           0         0             0      No  "
      ]
     },
     "execution_count": 11,
     "metadata": {},
     "output_type": "execute_result"
    }
   ],
   "source": [
    "#checking how many non integer patient ids are there\n",
    "\n",
    "non_int_patient_ids = df[~ df.patient_id.apply(lambda x:x.is_integer())]\n",
    "print(\"Number of non int ids in patient_id is {}\".format(len(non_int_patient_ids)))\n",
    "non_int_patient_ids"
   ]
  },
  {
   "cell_type": "markdown",
   "metadata": {},
   "source": [
    "These are the 5 float patient_ids\n",
    "\n",
    "The entire column of patient_id is to be converted from float to int, therefore it is necessary to check if these values \n",
    "more the specifically the integer part of these values is unique, to prevent duplicacy of patient_ids"
   ]
  },
  {
   "cell_type": "code",
   "execution_count": 12,
   "metadata": {},
   "outputs": [
    {
     "name": "stdout",
     "output_type": "stream",
     "text": [
      "ID :93779 is not present\n",
      "ID :537615 is not present\n",
      "ID :141724 is not present\n",
      "ID :39217 is not present\n",
      "ID :43741 is not present\n"
     ]
    }
   ],
   "source": [
    "patient_ids =['93779.52927','537615.28476','141724.16655','39217.84439','43741.75652']\n",
    "\n",
    "for i in range(len(patient_ids)):\n",
    "    patient_ids[i] = int(float(patient_ids[i]))\n",
    "    if df.query('patient_id == {}'.format(patient_ids[i])).empty:\n",
    "        print('ID :{} is not present'.format(patient_ids[i]))\n",
    "    else:\n",
    "        print('ID :{} is already present'.format(patient_ids[i]))"
   ]
  },
  {
   "cell_type": "markdown",
   "metadata": {},
   "source": [
    "Since all 5 ids are not present in the patient_id column therefore the whole column can be converted to int at once\n",
    "converting patient_id to int"
   ]
  },
  {
   "cell_type": "code",
   "execution_count": 13,
   "metadata": {},
   "outputs": [
    {
     "data": {
      "text/plain": [
       "dtype('int64')"
      ]
     },
     "execution_count": 13,
     "metadata": {},
     "output_type": "execute_result"
    }
   ],
   "source": [
    "df['patient_id'] = df['patient_id'].astype('int64')\n",
    "\n",
    "\n",
    "#data type of patient_id column\n",
    "df.dtypes[0]\n"
   ]
  },
  {
   "cell_type": "markdown",
   "metadata": {},
   "source": [
    "Change the datatype of  appointment_day and scheduled_day from object to datetime"
   ]
  },
  {
   "cell_type": "code",
   "execution_count": 14,
   "metadata": {},
   "outputs": [
    {
     "name": "stdout",
     "output_type": "stream",
     "text": [
      "<class 'pandas.core.frame.DataFrame'>\n",
      "RangeIndex: 110527 entries, 0 to 110526\n",
      "Data columns (total 14 columns):\n",
      " #   Column           Non-Null Count   Dtype              \n",
      "---  ------           --------------   -----              \n",
      " 0   patient_id       110527 non-null  int64              \n",
      " 1   appointment_id   110527 non-null  int64              \n",
      " 2   gender           110527 non-null  object             \n",
      " 3   scheduled_day    110527 non-null  datetime64[ns, UTC]\n",
      " 4   appointment_day  110527 non-null  datetime64[ns, UTC]\n",
      " 5   age              110527 non-null  int64              \n",
      " 6   neighbourhood    110527 non-null  object             \n",
      " 7   scholarship      110527 non-null  int64              \n",
      " 8   hypertension     110527 non-null  int64              \n",
      " 9   diabetes         110527 non-null  int64              \n",
      " 10  alcoholism       110527 non-null  int64              \n",
      " 11  handicap         110527 non-null  int64              \n",
      " 12  sms_received     110527 non-null  int64              \n",
      " 13  no_show          110527 non-null  object             \n",
      "dtypes: datetime64[ns, UTC](2), int64(9), object(3)\n",
      "memory usage: 11.8+ MB\n"
     ]
    }
   ],
   "source": [
    "df['scheduled_day'] = pd.to_datetime(df['scheduled_day'])\n",
    "df['appointment_day'] = pd.to_datetime(df['appointment_day'])\n",
    "\n",
    "#check info \n",
    "df.info()"
   ]
  },
  {
   "cell_type": "markdown",
   "metadata": {},
   "source": [
    "Creating awaiting_time_days column to record wating time"
   ]
  },
  {
   "cell_type": "code",
   "execution_count": 15,
   "metadata": {},
   "outputs": [
    {
     "name": "stdout",
     "output_type": "stream",
     "text": [
      "<class 'pandas.core.frame.DataFrame'>\n",
      "RangeIndex: 110527 entries, 0 to 110526\n",
      "Data columns (total 15 columns):\n",
      " #   Column              Non-Null Count   Dtype              \n",
      "---  ------              --------------   -----              \n",
      " 0   patient_id          110527 non-null  int64              \n",
      " 1   appointment_id      110527 non-null  int64              \n",
      " 2   gender              110527 non-null  object             \n",
      " 3   scheduled_day       110527 non-null  datetime64[ns, UTC]\n",
      " 4   appointment_day     110527 non-null  datetime64[ns, UTC]\n",
      " 5   age                 110527 non-null  int64              \n",
      " 6   neighbourhood       110527 non-null  object             \n",
      " 7   scholarship         110527 non-null  int64              \n",
      " 8   hypertension        110527 non-null  int64              \n",
      " 9   diabetes            110527 non-null  int64              \n",
      " 10  alcoholism          110527 non-null  int64              \n",
      " 11  handicap            110527 non-null  int64              \n",
      " 12  sms_received        110527 non-null  int64              \n",
      " 13  no_show             110527 non-null  object             \n",
      " 14  awaiting_time_days  110527 non-null  int64              \n",
      "dtypes: datetime64[ns, UTC](2), int64(10), object(3)\n",
      "memory usage: 12.6+ MB\n"
     ]
    }
   ],
   "source": [
    "df['awaiting_time_days']  = (df['appointment_day'] -df['scheduled_day']).dt.days\n",
    "df.info()"
   ]
  },
  {
   "cell_type": "code",
   "execution_count": 16,
   "metadata": {
    "scrolled": true
   },
   "outputs": [
    {
     "data": {
      "text/plain": [
       "Tuesday      26168\n",
       "Wednesday    24262\n",
       "Monday       23085\n",
       "Friday       18915\n",
       "Thursday     18073\n",
       "Saturday        24\n",
       "Name: appointment_dow, dtype: int64"
      ]
     },
     "execution_count": 16,
     "metadata": {},
     "output_type": "execute_result"
    }
   ],
   "source": [
    "#create appointment dow column\n",
    "df['appointment_dow'] = df.scheduled_day.dt.day_name()\n",
    "\n",
    "#check the values\n",
    "df['appointment_dow'].value_counts()"
   ]
  },
  {
   "cell_type": "markdown",
   "metadata": {},
   "source": [
    "It is obsereved that days which are in the start of the week are much busy as compared to the days at the end of the week appointments on Saturday as astonishingly low ,just 24 appointments"
   ]
  },
  {
   "cell_type": "code",
   "execution_count": 17,
   "metadata": {
    "scrolled": true
   },
   "outputs": [
    {
     "data": {
      "text/html": [
       "<div>\n",
       "<style scoped>\n",
       "    .dataframe tbody tr th:only-of-type {\n",
       "        vertical-align: middle;\n",
       "    }\n",
       "\n",
       "    .dataframe tbody tr th {\n",
       "        vertical-align: top;\n",
       "    }\n",
       "\n",
       "    .dataframe thead th {\n",
       "        text-align: right;\n",
       "    }\n",
       "</style>\n",
       "<table border=\"1\" class=\"dataframe\">\n",
       "  <thead>\n",
       "    <tr style=\"text-align: right;\">\n",
       "      <th></th>\n",
       "      <th>patient_id</th>\n",
       "      <th>appointment_id</th>\n",
       "      <th>age</th>\n",
       "      <th>scholarship</th>\n",
       "      <th>hypertension</th>\n",
       "      <th>diabetes</th>\n",
       "      <th>alcoholism</th>\n",
       "      <th>handicap</th>\n",
       "      <th>sms_received</th>\n",
       "      <th>awaiting_time_days</th>\n",
       "    </tr>\n",
       "  </thead>\n",
       "  <tbody>\n",
       "    <tr>\n",
       "      <th>count</th>\n",
       "      <td>1.105270e+05</td>\n",
       "      <td>1.105270e+05</td>\n",
       "      <td>110527.000000</td>\n",
       "      <td>110527.000000</td>\n",
       "      <td>110527.000000</td>\n",
       "      <td>110527.000000</td>\n",
       "      <td>110527.000000</td>\n",
       "      <td>110527.000000</td>\n",
       "      <td>110527.000000</td>\n",
       "      <td>110527.000000</td>\n",
       "    </tr>\n",
       "    <tr>\n",
       "      <th>mean</th>\n",
       "      <td>1.474963e+14</td>\n",
       "      <td>5.675305e+06</td>\n",
       "      <td>37.088874</td>\n",
       "      <td>0.098266</td>\n",
       "      <td>0.197246</td>\n",
       "      <td>0.071865</td>\n",
       "      <td>0.030400</td>\n",
       "      <td>0.022248</td>\n",
       "      <td>0.321026</td>\n",
       "      <td>9.183702</td>\n",
       "    </tr>\n",
       "    <tr>\n",
       "      <th>std</th>\n",
       "      <td>2.560949e+14</td>\n",
       "      <td>7.129575e+04</td>\n",
       "      <td>23.110205</td>\n",
       "      <td>0.297675</td>\n",
       "      <td>0.397921</td>\n",
       "      <td>0.258265</td>\n",
       "      <td>0.171686</td>\n",
       "      <td>0.161543</td>\n",
       "      <td>0.466873</td>\n",
       "      <td>15.254996</td>\n",
       "    </tr>\n",
       "    <tr>\n",
       "      <th>min</th>\n",
       "      <td>3.921700e+04</td>\n",
       "      <td>5.030230e+06</td>\n",
       "      <td>-1.000000</td>\n",
       "      <td>0.000000</td>\n",
       "      <td>0.000000</td>\n",
       "      <td>0.000000</td>\n",
       "      <td>0.000000</td>\n",
       "      <td>0.000000</td>\n",
       "      <td>0.000000</td>\n",
       "      <td>-7.000000</td>\n",
       "    </tr>\n",
       "    <tr>\n",
       "      <th>25%</th>\n",
       "      <td>4.172614e+12</td>\n",
       "      <td>5.640286e+06</td>\n",
       "      <td>18.000000</td>\n",
       "      <td>0.000000</td>\n",
       "      <td>0.000000</td>\n",
       "      <td>0.000000</td>\n",
       "      <td>0.000000</td>\n",
       "      <td>0.000000</td>\n",
       "      <td>0.000000</td>\n",
       "      <td>-1.000000</td>\n",
       "    </tr>\n",
       "    <tr>\n",
       "      <th>50%</th>\n",
       "      <td>3.173184e+13</td>\n",
       "      <td>5.680573e+06</td>\n",
       "      <td>37.000000</td>\n",
       "      <td>0.000000</td>\n",
       "      <td>0.000000</td>\n",
       "      <td>0.000000</td>\n",
       "      <td>0.000000</td>\n",
       "      <td>0.000000</td>\n",
       "      <td>0.000000</td>\n",
       "      <td>3.000000</td>\n",
       "    </tr>\n",
       "    <tr>\n",
       "      <th>75%</th>\n",
       "      <td>9.439172e+13</td>\n",
       "      <td>5.725524e+06</td>\n",
       "      <td>55.000000</td>\n",
       "      <td>0.000000</td>\n",
       "      <td>0.000000</td>\n",
       "      <td>0.000000</td>\n",
       "      <td>0.000000</td>\n",
       "      <td>0.000000</td>\n",
       "      <td>1.000000</td>\n",
       "      <td>14.000000</td>\n",
       "    </tr>\n",
       "    <tr>\n",
       "      <th>max</th>\n",
       "      <td>9.999816e+14</td>\n",
       "      <td>5.790484e+06</td>\n",
       "      <td>115.000000</td>\n",
       "      <td>1.000000</td>\n",
       "      <td>1.000000</td>\n",
       "      <td>1.000000</td>\n",
       "      <td>1.000000</td>\n",
       "      <td>4.000000</td>\n",
       "      <td>1.000000</td>\n",
       "      <td>178.000000</td>\n",
       "    </tr>\n",
       "  </tbody>\n",
       "</table>\n",
       "</div>"
      ],
      "text/plain": [
       "         patient_id  appointment_id            age    scholarship  \\\n",
       "count  1.105270e+05    1.105270e+05  110527.000000  110527.000000   \n",
       "mean   1.474963e+14    5.675305e+06      37.088874       0.098266   \n",
       "std    2.560949e+14    7.129575e+04      23.110205       0.297675   \n",
       "min    3.921700e+04    5.030230e+06      -1.000000       0.000000   \n",
       "25%    4.172614e+12    5.640286e+06      18.000000       0.000000   \n",
       "50%    3.173184e+13    5.680573e+06      37.000000       0.000000   \n",
       "75%    9.439172e+13    5.725524e+06      55.000000       0.000000   \n",
       "max    9.999816e+14    5.790484e+06     115.000000       1.000000   \n",
       "\n",
       "        hypertension       diabetes     alcoholism       handicap  \\\n",
       "count  110527.000000  110527.000000  110527.000000  110527.000000   \n",
       "mean        0.197246       0.071865       0.030400       0.022248   \n",
       "std         0.397921       0.258265       0.171686       0.161543   \n",
       "min         0.000000       0.000000       0.000000       0.000000   \n",
       "25%         0.000000       0.000000       0.000000       0.000000   \n",
       "50%         0.000000       0.000000       0.000000       0.000000   \n",
       "75%         0.000000       0.000000       0.000000       0.000000   \n",
       "max         1.000000       1.000000       1.000000       4.000000   \n",
       "\n",
       "        sms_received  awaiting_time_days  \n",
       "count  110527.000000       110527.000000  \n",
       "mean        0.321026            9.183702  \n",
       "std         0.466873           15.254996  \n",
       "min         0.000000           -7.000000  \n",
       "25%         0.000000           -1.000000  \n",
       "50%         0.000000            3.000000  \n",
       "75%         1.000000           14.000000  \n",
       "max         1.000000          178.000000  "
      ]
     },
     "execution_count": 17,
     "metadata": {},
     "output_type": "execute_result"
    }
   ],
   "source": [
    "df.describe()"
   ]
  },
  {
   "cell_type": "markdown",
   "metadata": {},
   "source": [
    "## Observations from summary\n",
    "\n",
    "<b>Age: </b>The patients are 37 years old on average.25% of the patients are below 18, and most of them are below 55.\n",
    "\n",
    "<b>SMS: </b>About 32 % of the patients received the SMS.\n",
    "\n",
    "<b>Handicap: </b> is represented by 4 classes, as opposed to other categorical variables in this dataset.This can be an error or there are 4 different categories used here.\n",
    "\n",
    "<b>Awaiting time: </b> is on avrage 9 days, 50% of the patients waited for 3 days and 75% of the patients waited for 14 days."
   ]
  },
  {
   "cell_type": "markdown",
   "metadata": {},
   "source": [
    "Creating histograms of all the features to find more observations"
   ]
  },
  {
   "cell_type": "code",
   "execution_count": 18,
   "metadata": {},
   "outputs": [
    {
     "data": {
      "image/png": "[encoded data removed]",
      "text/plain": [
       "<Figure size 1080x1080 with 12 Axes>"
      ]
     },
     "metadata": {
      "needs_background": "light"
     },
     "output_type": "display_data"
    }
   ],
   "source": [
    "df.hist(figsize = (15,15));"
   ]
  },
  {
   "cell_type": "markdown",
   "metadata": {},
   "source": [
    "### Histrogram Observations\n",
    "   1. Most of the patients are very young people in the dataset,and the number goes down rapidly for patients above 60.\n",
    "   2. Less than 20000 patients receive scholarship\n",
    "   3. Comparing alcoholism, diabetes and hypertension it found that more than 20000 people have hypertension where as less than 10000 people have diabetes or alcoholism, comparing alcoholism and diabetes it is found that dataset has more patients with diabetes than alcoholism.\n",
    "     \n"
   ]
  },
  {
   "cell_type": "markdown",
   "metadata": {},
   "source": [
    "### Finding Unique Values\n",
    "Finding unique values for different variables for unexpected values."
   ]
  },
  {
   "cell_type": "code",
   "execution_count": 19,
   "metadata": {},
   "outputs": [
    {
     "name": "stdout",
     "output_type": "stream",
     "text": [
      "Unique Values in 'patient_id' are [ 29872499824296 558997776694438   4262962299951 ...  72633149253362\n",
      " 996997666245785  15576631729893]\n",
      "\n",
      "Unique Values in 'appointment_id' are [5642903 5642503 5642549 ... 5630692 5630323 5629448]\n",
      "\n",
      "Unique Values in 'gender' are ['F' 'M']\n",
      "\n",
      "Unique Values in 'scheduled_day' are <DatetimeArray>\n",
      "['2016-04-29 18:38:08+00:00', '2016-04-29 16:08:27+00:00',\n",
      " '2016-04-29 16:19:04+00:00', '2016-04-29 17:29:31+00:00',\n",
      " '2016-04-29 16:07:23+00:00', '2016-04-27 08:36:51+00:00',\n",
      " '2016-04-27 15:05:12+00:00', '2016-04-27 15:39:58+00:00',\n",
      " '2016-04-29 08:02:16+00:00', '2016-04-27 12:48:25+00:00',\n",
      " ...\n",
      " '2016-06-07 07:45:16+00:00', '2016-06-07 07:38:34+00:00',\n",
      " '2016-04-27 15:15:06+00:00', '2016-05-03 07:51:47+00:00',\n",
      " '2016-05-03 08:23:40+00:00', '2016-05-03 09:15:35+00:00',\n",
      " '2016-05-03 07:27:33+00:00', '2016-04-27 16:03:52+00:00',\n",
      " '2016-04-27 15:09:23+00:00', '2016-04-27 13:30:56+00:00']\n",
      "Length: 103549, dtype: datetime64[ns, UTC]\n",
      "\n",
      "Unique Values in 'appointment_day' are <DatetimeArray>\n",
      "['2016-04-29 00:00:00+00:00', '2016-05-03 00:00:00+00:00',\n",
      " '2016-05-10 00:00:00+00:00', '2016-05-17 00:00:00+00:00',\n",
      " '2016-05-24 00:00:00+00:00', '2016-05-31 00:00:00+00:00',\n",
      " '2016-05-02 00:00:00+00:00', '2016-05-30 00:00:00+00:00',\n",
      " '2016-05-16 00:00:00+00:00', '2016-05-04 00:00:00+00:00',\n",
      " '2016-05-19 00:00:00+00:00', '2016-05-12 00:00:00+00:00',\n",
      " '2016-05-06 00:00:00+00:00', '2016-05-20 00:00:00+00:00',\n",
      " '2016-05-05 00:00:00+00:00', '2016-05-13 00:00:00+00:00',\n",
      " '2016-05-09 00:00:00+00:00', '2016-05-25 00:00:00+00:00',\n",
      " '2016-05-11 00:00:00+00:00', '2016-05-18 00:00:00+00:00',\n",
      " '2016-05-14 00:00:00+00:00', '2016-06-02 00:00:00+00:00',\n",
      " '2016-06-03 00:00:00+00:00', '2016-06-06 00:00:00+00:00',\n",
      " '2016-06-07 00:00:00+00:00', '2016-06-01 00:00:00+00:00',\n",
      " '2016-06-08 00:00:00+00:00']\n",
      "Length: 27, dtype: datetime64[ns, UTC]\n",
      "\n",
      "Unique Values in 'age' are [ 62  56   8  76  23  39  21  19  30  29  22  28  54  15  50  40  46   4\n",
      "  13  65  45  51  32  12  61  38  79  18  63  64  85  59  55  71  49  78\n",
      "  31  58  27   6   2  11   7   0   3   1  69  68  60  67  36  10  35  20\n",
      "  26  34  33  16  42   5  47  17  41  44  37  24  66  77  81  70  53  75\n",
      "  73  52  74  43  89  57  14   9  48  83  72  25  80  87  88  84  82  90\n",
      "  94  86  91  98  92  96  93  95  97 102 115 100  99  -1]\n",
      "\n",
      "Unique Values in 'neighbourhood' are ['JARDIM DA PENHA' 'MATA DA PRAIA' 'PONTAL DE CAMBURI' 'REPÚBLICA'\n",
      " 'GOIABEIRAS' 'ANDORINHAS' 'CONQUISTA' 'NOVA PALESTINA' 'DA PENHA'\n",
      " 'TABUAZEIRO' 'BENTO FERREIRA' 'SÃO PEDRO' 'SANTA MARTHA' 'SÃO CRISTÓVÃO'\n",
      " 'MARUÍPE' 'GRANDE VITÓRIA' 'SÃO BENEDITO' 'ILHA DAS CAIEIRAS'\n",
      " 'SANTO ANDRÉ' 'SOLON BORGES' 'BONFIM' 'JARDIM CAMBURI' 'MARIA ORTIZ'\n",
      " 'JABOUR' 'ANTÔNIO HONÓRIO' 'RESISTÊNCIA' 'ILHA DE SANTA MARIA'\n",
      " 'JUCUTUQUARA' 'MONTE BELO' 'MÁRIO CYPRESTE' 'SANTO ANTÔNIO' 'BELA VISTA'\n",
      " 'PRAIA DO SUÁ' 'SANTA HELENA' 'ITARARÉ' 'INHANGUETÁ' 'UNIVERSITÁRIO'\n",
      " 'SÃO JOSÉ' 'REDENÇÃO' 'SANTA CLARA' 'CENTRO' 'PARQUE MOSCOSO'\n",
      " 'DO MOSCOSO' 'SANTOS DUMONT' 'CARATOÍRA' 'ARIOVALDO FAVALESSA'\n",
      " 'ILHA DO FRADE' 'GURIGICA' 'JOANA D´ARC' 'CONSOLAÇÃO' 'PRAIA DO CANTO'\n",
      " 'BOA VISTA' 'MORADA DE CAMBURI' 'SANTA LUÍZA' 'SANTA LÚCIA'\n",
      " 'BARRO VERMELHO' 'ESTRELINHA' 'FORTE SÃO JOÃO' 'FONTE GRANDE'\n",
      " 'ENSEADA DO SUÁ' 'SANTOS REIS' 'PIEDADE' 'JESUS DE NAZARETH'\n",
      " 'SANTA TEREZA' 'CRUZAMENTO' 'ILHA DO PRÍNCIPE' 'ROMÃO' 'COMDUSA'\n",
      " 'SANTA CECÍLIA' 'VILA RUBIM' 'DE LOURDES' 'DO QUADRO' 'DO CABRAL' 'HORTO'\n",
      " 'SEGURANÇA DO LAR' 'ILHA DO BOI' 'FRADINHOS' 'NAZARETH' 'AEROPORTO'\n",
      " 'ILHAS OCEÂNICAS DE TRINDADE' 'PARQUE INDUSTRIAL']\n",
      "\n",
      "Unique Values in 'scholarship' are [0 1]\n",
      "\n",
      "Unique Values in 'hypertension' are [1 0]\n",
      "\n",
      "Unique Values in 'diabetes' are [0 1]\n",
      "\n",
      "Unique Values in 'alcoholism' are [0 1]\n",
      "\n",
      "Unique Values in 'handicap' are [0 1 2 3 4]\n",
      "\n",
      "Unique Values in 'sms_received' are [0 1]\n",
      "\n",
      "Unique Values in 'no_show' are ['No' 'Yes']\n",
      "\n",
      "Unique Values in 'awaiting_time_days' are [ -1   1   2   0   3   8  28   9  22  10  17  16  13  27  23  20  14  15\n",
      "  21  42  29  30  41  31  55  44  45  38  36  37  43  49  59  51  52  64\n",
      "  66  90  65  83  77  86 114 108  62  69  71  56  57  50  58  40  48  72\n",
      "  63  19  32  33   5  34  35  11  12  39  46   7   4   6  24  25  47  26\n",
      "  18  60  54  61 175  53  76  68  82  75  88  80 102  78  67  74  84 111\n",
      "  -2  79  85  97  93 141 154 161 168 103 132 124  95  87  89 150 125 126\n",
      " 110 118  73  70  81 107 109 101 121 100 104  91  96  92 106  94  -7 138\n",
      " 131 178 116 145 122]\n",
      "\n",
      "Unique Values in 'appointment_dow' are ['Friday' 'Wednesday' 'Tuesday' 'Thursday' 'Monday' 'Saturday']\n",
      "\n"
     ]
    }
   ],
   "source": [
    "lst = list(df.columns)\n",
    "for col in lst:\n",
    "    print(\"Unique Values in '{}' are {}\".format(col,df['{}'.format(col)].unique()),end=\"\\n\\n\")"
   ]
  },
  {
   "cell_type": "markdown",
   "metadata": {},
   "source": [
    "### Observations from Unique Values\n",
    "\n",
    "It is observed that most of the variables have values that were supposed to be there, However it was observed some variables like:\n",
    "- <b>Age: </b> values cannot be less than 0, as that is simply not possible, therefore all values less than 0 will be removed from the dataset.\n",
    "- <b>Handicap: </b> There are too many values other than 0 or 1, they can be considered as typos or they must be signifying the kind of disablility of the patient, however for our analysis, the detail of a patient's kind of disability does not make much sense therefore, these values would not be changed.\n",
    "- <b>Awaiting time days: </b> awaiting time cannot be less than 0,it is assumed that,it simply not possible to visit without scheduled appointment."
   ]
  },
  {
   "cell_type": "code",
   "execution_count": 20,
   "metadata": {},
   "outputs": [
    {
     "data": {
      "text/html": [
       "<div>\n",
       "<style scoped>\n",
       "    .dataframe tbody tr th:only-of-type {\n",
       "        vertical-align: middle;\n",
       "    }\n",
       "\n",
       "    .dataframe tbody tr th {\n",
       "        vertical-align: top;\n",
       "    }\n",
       "\n",
       "    .dataframe thead th {\n",
       "        text-align: right;\n",
       "    }\n",
       "</style>\n",
       "<table border=\"1\" class=\"dataframe\">\n",
       "  <thead>\n",
       "    <tr style=\"text-align: right;\">\n",
       "      <th></th>\n",
       "      <th>patient_id</th>\n",
       "      <th>appointment_id</th>\n",
       "      <th>gender</th>\n",
       "      <th>scheduled_day</th>\n",
       "      <th>appointment_day</th>\n",
       "      <th>age</th>\n",
       "      <th>neighbourhood</th>\n",
       "      <th>scholarship</th>\n",
       "      <th>hypertension</th>\n",
       "      <th>diabetes</th>\n",
       "      <th>alcoholism</th>\n",
       "      <th>handicap</th>\n",
       "      <th>sms_received</th>\n",
       "      <th>no_show</th>\n",
       "      <th>awaiting_time_days</th>\n",
       "      <th>appointment_dow</th>\n",
       "    </tr>\n",
       "  </thead>\n",
       "  <tbody>\n",
       "    <tr>\n",
       "      <th>99832</th>\n",
       "      <td>465943158731293</td>\n",
       "      <td>5775010</td>\n",
       "      <td>F</td>\n",
       "      <td>2016-06-06 08:58:13+00:00</td>\n",
       "      <td>2016-06-06 00:00:00+00:00</td>\n",
       "      <td>-1</td>\n",
       "      <td>ROMÃO</td>\n",
       "      <td>0</td>\n",
       "      <td>0</td>\n",
       "      <td>0</td>\n",
       "      <td>0</td>\n",
       "      <td>0</td>\n",
       "      <td>0</td>\n",
       "      <td>No</td>\n",
       "      <td>-1</td>\n",
       "      <td>Monday</td>\n",
       "    </tr>\n",
       "  </tbody>\n",
       "</table>\n",
       "</div>"
      ],
      "text/plain": [
       "            patient_id  appointment_id gender             scheduled_day  \\\n",
       "99832  465943158731293         5775010      F 2016-06-06 08:58:13+00:00   \n",
       "\n",
       "                appointment_day  age neighbourhood  scholarship  hypertension  \\\n",
       "99832 2016-06-06 00:00:00+00:00   -1         ROMÃO            0             0   \n",
       "\n",
       "       diabetes  alcoholism  handicap  sms_received no_show  \\\n",
       "99832         0           0         0             0      No   \n",
       "\n",
       "       awaiting_time_days appointment_dow  \n",
       "99832                  -1          Monday  "
      ]
     },
     "execution_count": 20,
     "metadata": {},
     "output_type": "execute_result"
    }
   ],
   "source": [
    "#Showing the negative Values\n",
    "df.query(\"age < 0\")"
   ]
  },
  {
   "cell_type": "code",
   "execution_count": 21,
   "metadata": {},
   "outputs": [],
   "source": [
    "df.drop(99832,inplace = True)"
   ]
  },
  {
   "cell_type": "code",
   "execution_count": 22,
   "metadata": {},
   "outputs": [
    {
     "data": {
      "text/html": [
       "<div>\n",
       "<style scoped>\n",
       "    .dataframe tbody tr th:only-of-type {\n",
       "        vertical-align: middle;\n",
       "    }\n",
       "\n",
       "    .dataframe tbody tr th {\n",
       "        vertical-align: top;\n",
       "    }\n",
       "\n",
       "    .dataframe thead th {\n",
       "        text-align: right;\n",
       "    }\n",
       "</style>\n",
       "<table border=\"1\" class=\"dataframe\">\n",
       "  <thead>\n",
       "    <tr style=\"text-align: right;\">\n",
       "      <th></th>\n",
       "      <th>patient_id</th>\n",
       "      <th>appointment_id</th>\n",
       "      <th>gender</th>\n",
       "      <th>scheduled_day</th>\n",
       "      <th>appointment_day</th>\n",
       "      <th>age</th>\n",
       "      <th>neighbourhood</th>\n",
       "      <th>scholarship</th>\n",
       "      <th>hypertension</th>\n",
       "      <th>diabetes</th>\n",
       "      <th>alcoholism</th>\n",
       "      <th>handicap</th>\n",
       "      <th>sms_received</th>\n",
       "      <th>no_show</th>\n",
       "      <th>awaiting_time_days</th>\n",
       "      <th>appointment_dow</th>\n",
       "    </tr>\n",
       "  </thead>\n",
       "  <tbody>\n",
       "  </tbody>\n",
       "</table>\n",
       "</div>"
      ],
      "text/plain": [
       "Empty DataFrame\n",
       "Columns: [patient_id, appointment_id, gender, scheduled_day, appointment_day, age, neighbourhood, scholarship, hypertension, diabetes, alcoholism, handicap, sms_received, no_show, awaiting_time_days, appointment_dow]\n",
       "Index: []"
      ]
     },
     "execution_count": 22,
     "metadata": {},
     "output_type": "execute_result"
    }
   ],
   "source": [
    "#Checking the negative Values\n",
    "df.query(\"age < 0\")"
   ]
  },
  {
   "cell_type": "markdown",
   "metadata": {},
   "source": [
    "It can be beneficial to explore more about age"
   ]
  },
  {
   "cell_type": "markdown",
   "metadata": {},
   "source": [
    "Let's see the boxplot of the variable to find out more about the outliers"
   ]
  },
  {
   "cell_type": "code",
   "execution_count": 23,
   "metadata": {},
   "outputs": [
    {
     "data": {
      "image/png": "[encoded data removed]",
      "text/plain": [
       "<Figure size 1080x144 with 1 Axes>"
      ]
     },
     "metadata": {
      "needs_background": "light"
     },
     "output_type": "display_data"
    }
   ],
   "source": [
    "plt.figure(figsize=(15,2))\n",
    "sns.boxplot(x=df.age);"
   ]
  },
  {
   "cell_type": "markdown",
   "metadata": {},
   "source": [
    "As, it is observed that we have a outlier.\n",
    "\n",
    "Let's plot a histogram to show the frequency of each age"
   ]
  },
  {
   "cell_type": "code",
   "execution_count": 24,
   "metadata": {},
   "outputs": [
    {
     "data": {
      "image/png": "[encoded data removed]",
      "text/plain": [
       "<Figure size 1080x360 with 1 Axes>"
      ]
     },
     "metadata": {
      "needs_background": "light"
     },
     "output_type": "display_data"
    }
   ],
   "source": [
    "plt.figure(figsize=(15,5))\n",
    "plt.xticks(rotation = 90)\n",
    "sns.countplot(x = df.age).set_title(\"Frequency of age\")\n",
    "plt.show()"
   ]
  },
  {
   "cell_type": "markdown",
   "metadata": {},
   "source": [
    "- As, it is observed that the peak is for age = 0, that is for the infants the frequency is the largest\n",
    "\n",
    "- Infants have the largest frequency, after that the histogram is mostly uniform, till the age of 60\n",
    "\n",
    "- Also, after the age of 60 the histogram is rightly skewwed."
   ]
  },
  {
   "cell_type": "markdown",
   "metadata": {},
   "source": [
    "Removing rows for which awaiting time is negative"
   ]
  },
  {
   "cell_type": "code",
   "execution_count": 25,
   "metadata": {},
   "outputs": [],
   "source": [
    "rows = df[df.awaiting_time_days < 0 ].index\n",
    "df.drop(rows,inplace = True)"
   ]
  },
  {
   "cell_type": "code",
   "execution_count": 26,
   "metadata": {},
   "outputs": [
    {
     "data": {
      "text/html": [
       "<div>\n",
       "<style scoped>\n",
       "    .dataframe tbody tr th:only-of-type {\n",
       "        vertical-align: middle;\n",
       "    }\n",
       "\n",
       "    .dataframe tbody tr th {\n",
       "        vertical-align: top;\n",
       "    }\n",
       "\n",
       "    .dataframe thead th {\n",
       "        text-align: right;\n",
       "    }\n",
       "</style>\n",
       "<table border=\"1\" class=\"dataframe\">\n",
       "  <thead>\n",
       "    <tr style=\"text-align: right;\">\n",
       "      <th></th>\n",
       "      <th>patient_id</th>\n",
       "      <th>appointment_id</th>\n",
       "      <th>gender</th>\n",
       "      <th>scheduled_day</th>\n",
       "      <th>appointment_day</th>\n",
       "      <th>age</th>\n",
       "      <th>neighbourhood</th>\n",
       "      <th>scholarship</th>\n",
       "      <th>hypertension</th>\n",
       "      <th>diabetes</th>\n",
       "      <th>alcoholism</th>\n",
       "      <th>handicap</th>\n",
       "      <th>sms_received</th>\n",
       "      <th>no_show</th>\n",
       "      <th>awaiting_time_days</th>\n",
       "      <th>appointment_dow</th>\n",
       "    </tr>\n",
       "  </thead>\n",
       "  <tbody>\n",
       "  </tbody>\n",
       "</table>\n",
       "</div>"
      ],
      "text/plain": [
       "Empty DataFrame\n",
       "Columns: [patient_id, appointment_id, gender, scheduled_day, appointment_day, age, neighbourhood, scholarship, hypertension, diabetes, alcoholism, handicap, sms_received, no_show, awaiting_time_days, appointment_dow]\n",
       "Index: []"
      ]
     },
     "execution_count": 26,
     "metadata": {},
     "output_type": "execute_result"
    }
   ],
   "source": [
    "#checking for awaiting_time_days < 0\n",
    "df.query('awaiting_time_days < 0')"
   ]
  },
  {
   "cell_type": "code",
   "execution_count": 27,
   "metadata": {},
   "outputs": [
    {
     "data": {
      "image/png": "[encoded data removed]",
      "text/plain": [
       "<Figure size 1080x360 with 1 Axes>"
      ]
     },
     "metadata": {
      "needs_background": "light"
     },
     "output_type": "display_data"
    }
   ],
   "source": [
    "plt.figure(figsize=(15,5))\n",
    "plt.xticks(rotation = 90)\n",
    "sns.countplot(x = df.awaiting_time_days).set_title(\"Frequency of awaiting_time_days\")\n",
    "plt.show()"
   ]
  },
  {
   "cell_type": "markdown",
   "metadata": {},
   "source": [
    "Let's find out how many patients scheduled their visit for the same day"
   ]
  },
  {
   "cell_type": "code",
   "execution_count": 28,
   "metadata": {
    "scrolled": true
   },
   "outputs": [
    {
     "name": "stdout",
     "output_type": "stream",
     "text": [
      "[5213 5213 5213 5213 5213 5213 5213 5213 5213 5213 5213 5213 5213 5213\n",
      " 5213 5213]\n"
     ]
    }
   ],
   "source": [
    "awaiting0 = df.query('awaiting_time_days == 0').count()\n",
    "print(awaiting0.values)"
   ]
  },
  {
   "cell_type": "markdown",
   "metadata": {},
   "source": [
    "It is worth noticing that around 5k patients scheduled their appointment for the same day.\n"
   ]
  },
  {
   "cell_type": "markdown",
   "metadata": {},
   "source": [
    "Let's check how many of those patients show up for the appointment"
   ]
  },
  {
   "cell_type": "code",
   "execution_count": 29,
   "metadata": {},
   "outputs": [
    {
     "name": "stdout",
     "output_type": "stream",
     "text": [
      "Around 78.64953002110109% of people showed up on the same day they scheduled their appointment\n"
     ]
    }
   ],
   "source": [
    "show_up = len(df.query(\"awaiting_time_days == 0 and no_show == 'No'\"))\n",
    "total = len(df.query(\"awaiting_time_days == 0\"))\n",
    "\n",
    "print (\"Around {}% of people showed up on the same day they scheduled their appointment\".format(float((show_up/total))*100))"
   ]
  },
  {
   "cell_type": "markdown",
   "metadata": {},
   "source": [
    "Let's see in what time period most of the visits happen from being scheduled"
   ]
  },
  {
   "cell_type": "code",
   "execution_count": 30,
   "metadata": {},
   "outputs": [
    {
     "data": {
      "image/png": "[encoded data removed]",
      "text/plain": [
       "<Figure size 432x288 with 1 Axes>"
      ]
     },
     "metadata": {
      "needs_background": "light"
     },
     "output_type": "display_data"
    }
   ],
   "source": [
    "# It seems that most of the visits happened within 3 months from being scheduled\n",
    "sns.stripplot(y = df['awaiting_time_days'])\n",
    "plt.show();"
   ]
  },
  {
   "cell_type": "markdown",
   "metadata": {},
   "source": [
    "#### Observing scheduled_day"
   ]
  },
  {
   "cell_type": "code",
   "execution_count": 31,
   "metadata": {},
   "outputs": [
    {
     "name": "stdout",
     "output_type": "stream",
     "text": [
      "Scheduling for visits started on 2015-11-10 07:13:56+00:00\n",
      "Scheduling for visits ending on 2016-06-07 19:03:57+00:00\n"
     ]
    }
   ],
   "source": [
    "print(\"Scheduling for visits started on {}\".format(df['scheduled_day'].min()))\n",
    "print(\"Scheduling for visits ending on {}\".format(df['scheduled_day'].max()))"
   ]
  },
  {
   "cell_type": "markdown",
   "metadata": {},
   "source": [
    "Plotting a histogram of 'scheduled_day' to observe it's distribution"
   ]
  },
  {
   "cell_type": "code",
   "execution_count": 32,
   "metadata": {},
   "outputs": [
    {
     "data": {
      "image/png": "[encoded data removed]",
      "text/plain": [
       "<Figure size 720x720 with 1 Axes>"
      ]
     },
     "metadata": {
      "needs_background": "light"
     },
     "output_type": "display_data"
    }
   ],
   "source": [
    "plt.figure(figsize=(10,10))\n",
    "plt.ylabel(\"Frequency\")\n",
    "plt.xlabel(\"Scheduled_day\")\n",
    "df['scheduled_day'].hist();"
   ]
  },
  {
   "cell_type": "markdown",
   "metadata": {},
   "source": [
    "It can be observed from the histogram that the distribution of 'scheduled_day' is <b>left skewed</b>."
   ]
  },
  {
   "cell_type": "markdown",
   "metadata": {},
   "source": [
    "#### Observing appointment_day"
   ]
  },
  {
   "cell_type": "code",
   "execution_count": 33,
   "metadata": {},
   "outputs": [
    {
     "name": "stdout",
     "output_type": "stream",
     "text": [
      "Appointment for visits started on 2016-04-29 00:00:00+00:00\n",
      "Appointment for visits ending on 2016-06-08 00:00:00+00:00\n"
     ]
    }
   ],
   "source": [
    "print(\"Appointment for visits started on {}\".format(df['appointment_day'].min()))\n",
    "print(\"Appointment for visits ending on {}\".format(df['appointment_day'].max()))"
   ]
  },
  {
   "cell_type": "markdown",
   "metadata": {},
   "source": [
    "Plotting a histogram of 'appointment_day' to observe it's distribution"
   ]
  },
  {
   "cell_type": "code",
   "execution_count": 34,
   "metadata": {
    "scrolled": true
   },
   "outputs": [
    {
     "data": {
      "image/png": "[encoded data removed]",
      "text/plain": [
       "<Figure size 720x720 with 1 Axes>"
      ]
     },
     "metadata": {
      "needs_background": "light"
     },
     "output_type": "display_data"
    }
   ],
   "source": [
    "plt.figure(figsize = (10,10))\n",
    "plt.ylabel(\"Frequency\")\n",
    "plt.xlabel(\"appointment_day\")\n",
    "df['appointment_day'].hist();"
   ]
  },
  {
   "cell_type": "markdown",
   "metadata": {},
   "source": [
    "### Questions"
   ]
  },
  {
   "cell_type": "markdown",
   "metadata": {},
   "source": [
    "The given dataset has been properly formatted and observed now, I have created a list of questions \n",
    "that will help in further analysis of the dataset and will uncover some new facts about the data.\n",
    "\n",
    "1. How many people or what percent of the population missed their scheduled appointment ?\n",
    "\n",
    "2. What is the gender distribution for show/ no-show of patients ?\n",
    "3. What is the distribution show/ no-show of patients based on their neighbourhood ?\n",
    "4. Are there patients with more than one appointments ? If yes ,list the top 10 patients with most appointments.\n",
    "5. What are the important factors for predicting whether a patient will show up for appointment or not?\n"
   ]
  },
  {
   "cell_type": "markdown",
   "metadata": {},
   "source": [
    "<a id='eda'></a>\n",
    "# Exploratory Data Analysis\n",
    "\n",
    "\n",
    "### How many people or what percent of the population missed their scheduled appointment ?"
   ]
  },
  {
   "cell_type": "code",
   "execution_count": 35,
   "metadata": {},
   "outputs": [
    {
     "name": "stdout",
     "output_type": "stream",
     "text": [
      "71959\n",
      "Number of patients who missed their appointment: 20522\n",
      "Percentage of patients who missed their appointment: 28.52 %\n"
     ]
    }
   ],
   "source": [
    "total_patients = df.shape[0]\n",
    "print(total_patients)\n",
    "missing_patients = len(df.query(\"no_show == 'Yes'\"))\n",
    "print(\"Number of patients who missed their appointment: {}\".format(missing_patients))\n",
    "print(\"Percentage of patients who missed their appointment: {} %\".format(round((missing_patients/total_patients)*100,2)))"
   ]
  },
  {
   "cell_type": "code",
   "execution_count": 36,
   "metadata": {},
   "outputs": [
    {
     "data": {
      "image/png": "[encoded data removed]",
      "text/plain": [
       "<Figure size 432x288 with 1 Axes>"
      ]
     },
     "metadata": {
      "needs_background": "light"
     },
     "output_type": "display_data"
    }
   ],
   "source": [
    "plt.title(\"Show/No-Show Patients\")\n",
    "plt.ylabel(\"count\")\n",
    "plt.xlabel(\"no_show\")\n",
    "sns.countplot(x = df['no_show']);\n",
    "plt.show();"
   ]
  },
  {
   "cell_type": "markdown",
   "metadata": {},
   "source": [
    "### What is the gender distribution for show/ no-show of patients ?\n"
   ]
  },
  {
   "cell_type": "code",
   "execution_count": 37,
   "metadata": {},
   "outputs": [
    {
     "name": "stdout",
     "output_type": "stream",
     "text": [
      "Percent of appointments missed by females = 28.45%\n",
      "Percent of appointments missed by males = 28.67%\n"
     ]
    }
   ],
   "source": [
    "appointments_f = len(df.query(\"gender == 'F'\"))\n",
    "appointments_m = len(df.query('gender == \"M\"'))\n",
    "\n",
    "missed_app_f = len(df.query(\"gender == 'F' and no_show == 'Yes'\"))\n",
    "missed_app_m = len(df.query(\"gender == 'M' and no_show == 'Yes'\"))\n",
    "\n",
    "print(\"Percent of appointments missed by females = {}%\".format(round((missed_app_f/appointments_f)*100,2)))\n",
    "print(\"Percent of appointments missed by males = {}%\".format(round((missed_app_m/appointments_m)*100,2)))"
   ]
  },
  {
   "cell_type": "code",
   "execution_count": 38,
   "metadata": {},
   "outputs": [
    {
     "data": {
      "image/png": "[encoded data removed]",
      "text/plain": [
       "<Figure size 432x288 with 1 Axes>"
      ]
     },
     "metadata": {
      "needs_background": "light"
     },
     "output_type": "display_data"
    }
   ],
   "source": [
    "plt.title(\"Show/No-Show of Patients based on their gender\")\n",
    "plt.ylabel(\"count\")\n",
    "plt.xlabel(\"no_show\")\n",
    "sns.countplot(x = df['gender'],hue =df['no_show'],data = df);\n",
    "plt.show();"
   ]
  },
  {
   "cell_type": "markdown",
   "metadata": {},
   "source": [
    "###  What is the distribution show/ no-show of patients based on their neighbourhood ?\n"
   ]
  },
  {
   "cell_type": "code",
   "execution_count": 40,
   "metadata": {},
   "outputs": [
    {
     "data": {
      "image/png": "[encoded data removed]",
      "text/plain": [
       "<Figure size 1440x576 with 1 Axes>"
      ]
     },
     "metadata": {
      "needs_background": "light"
     },
     "output_type": "display_data"
    }
   ],
   "source": [
    "neighbourhood = df['neighbourhood'].unique()\n",
    "count = []\n",
    "for i in range(len(neighbourhood)):\n",
    "    count.append(len(df.query('neighbourhood == \"{}\"'.format(neighbourhood[i]))))\n",
    "#print(len(neighbourhood))\n",
    "plt.figure(figsize = (20,8))\n",
    "plt.xticks(rotation = 90)\n",
    "plt.bar(neighbourhood,count)\n",
    "plt.show();"
   ]
  },
  {
   "cell_type": "markdown",
   "metadata": {},
   "source": [
    "It is observed that most scheduled appointment are in the neighbourhood of <b>JARDIM CAMBURI</b> with more than 5k appointments"
   ]
  },
  {
   "cell_type": "markdown",
   "metadata": {},
   "source": [
    "It is also observed that least scheduled appointments were from the neighbourhood of <b>ILHAS OCEÂNICAS DE TRINDADE</b> of just 2 appointments"
   ]
  },
  {
   "cell_type": "markdown",
   "metadata": {},
   "source": [
    "### Are there patients with more than one appointments ? If yes ,list the top 10 patients with most appointments."
   ]
  },
  {
   "cell_type": "code",
   "execution_count": 41,
   "metadata": {},
   "outputs": [
    {
     "data": {
      "text/plain": [
       "1484143378533      30\n",
       "32351482915        20\n",
       "38899547972932     20\n",
       "17798942295934     20\n",
       "37994336685892     19\n",
       "579448128831       19\n",
       "6285945381692      19\n",
       "787697428886813    18\n",
       "863266615443557    17\n",
       "548284689473265    17\n",
       "Name: patient_id, dtype: int64"
      ]
     },
     "execution_count": 41,
     "metadata": {},
     "output_type": "execute_result"
    }
   ],
   "source": [
    "df['patient_id'].value_counts().iloc[0:10]"
   ]
  },
  {
   "cell_type": "markdown",
   "metadata": {},
   "source": [
    "Patient with multiple appointments are present. The number of appointments of top 10 patients range from 30 to 17. Taking into consideration, that the time range of visits appointed spans over 1.5 months."
   ]
  },
  {
   "cell_type": "markdown",
   "metadata": {},
   "source": [
    "### What are the important factors for predicting whether a patient will show up for appointment or not?\n"
   ]
  },
  {
   "cell_type": "markdown",
   "metadata": {},
   "source": [
    "Let's take a look at the categorical variables"
   ]
  },
  {
   "cell_type": "code",
   "execution_count": 42,
   "metadata": {},
   "outputs": [
    {
     "data": {
      "image/png": "[encoded data removed]",
      "text/plain": [
       "<Figure size 1080x1080 with 8 Axes>"
      ]
     },
     "metadata": {
      "needs_background": "light"
     },
     "output_type": "display_data"
    }
   ],
   "source": [
    "cate_vars = ['gender', 'scholarship', 'hypertension', 'diabetes', 'alcoholism', 'handicap', 'sms_received', 'appointment_dow']\n",
    "fig = plt.figure(figsize = (15,15))\n",
    "for i,var in enumerate(cate_vars):\n",
    "    sub = fig.add_subplot(3,3,i+1)\n",
    "    df.groupby([var,'no_show'])[var].count().unstack('no_show').plot(ax = sub,kind='bar',stacked =True)"
   ]
  },
  {
   "cell_type": "markdown",
   "metadata": {},
   "source": [
    "It is observed that for all the categorical variables of show/no-show for different\n",
    "variables look very similar,There is no critical indication of any these variables having more impact on \n",
    "show/no-show characteristics."
   ]
  },
  {
   "cell_type": "markdown",
   "metadata": {},
   "source": [
    "<a id='conclusions'></a>\n",
    "# Conclusions\n"
   ]
  },
  {
   "cell_type": "markdown",
   "metadata": {
    "collapsed": true
   },
   "source": [
    "I have observed and analyzed the dataset, it had few problems like formatting of variables,removing wrong data,unifying some columns and adding new features based on existing data. I have also managed to investigate most of the independent variables in the dataset and came to the conclusion that there is no clear indication, of which categorical variable affects the show/no-show of a patient.Some of the other interesting observations are listed below:\n",
    "\n",
    "The most important observations are:\n",
    "- Scheduling visits started on:<b>2015-11-10</b> and ended on <b>2016-06-07</b>.\n",
    "\n",
    "- Appointment visits started on:<b>2016-04-29</b> and ended on <b>2016-06-08</b>.\n",
    "\n",
    "- It is obsereved that days which are in the start of the week are much busy as compared to the days at the end of the week appointments on Saturday as astonishingly low ,just 24 appointments.\n",
    "\n",
    "- The patients are 37 years old on average.25% of the patients are below 18, and most of them are below 55.\n",
    "\n",
    "- About 32 % of the patients received the SMS.\n",
    "\n",
    "- Disability is represented by 4 classes, as opposed to other categorical variables in this dataset.This can be an error or there are 4 different categories used here.\n",
    "\n",
    "- Awaiting time is on avrage 9 days, 50% of the patients waited for 3 days and 75% of the patients waited for 14 days.\n",
    "\n",
    "- Most of the patients are very young people in the dataset,and the number goes down rapidly for patients above 60.\n",
    "- Less than 20000 patients receive scholarship.\n",
    "\n",
    "- Comparing alcoholism, diabetes and hypertension it found that more than 20000 people have hypertension where as less than 10000 people have diabetes or alcoholism, comparing alcoholism and diabetes it is found that dataset has more patients with diabetes than alcoholism.\n",
    "\n",
    "- Infants are the largest group of patients.\n",
    "\n",
    "- It was observed that the histogram of Frequency of age is right-skewed after the age of 60.\n",
    "\n",
    "- It is worth noticing that around 5k patients scheduled their appointment for the same day.\n",
    "\n",
    "- Around 78% of people showed up on the same day on which they scheduled their appointment\n",
    "\n",
    "- Out of 71959 patients , number of patients who missed their appointment are 20522.\n",
    "\n",
    "- Percentage of patients who missed their appointment: 28.52 %\n",
    "\n",
    "- It was observed that females tend to schedule more visits than men.\n",
    "\n",
    "- Percent of appointments missed by females = 28.45%\n",
    "\n",
    "- Percent of appointments missed by males = 28.67%\n",
    "\n",
    "- It is observed that most scheduled appointment are in the neighbourhood of JARDIM CAMBURI with more than 5k appointments.\n",
    "\n",
    "- It is also observed that least scheduled appointments were from the neighbourhood of ILHAS OCEÂNICAS DE TRINDADE of just 2 appointments.\n",
    "\n",
    "- Patient with multiple appointments are present. The number of appointments of top 10 patients range from 30 to 17. Taking into consideration, that the time range of visits appointed spans over 1.5 months."
   ]
  }
 ],
 "metadata": {
  "kernelspec": {
   "display_name": "Python 3",
   "language": "python",
   "name": "python3"
  },
  "language_info": {
   "codemirror_mode": {
    "name": "ipython",
    "version": 3
   },
   "file_extension": ".py",
   "mimetype": "text/x-python",
   "name": "python",
   "nbconvert_exporter": "python",
   "pygments_lexer": "ipython3",
   "version": "3.7.6"
  }
 },
 "nbformat": 4,
 "nbformat_minor": 2
}
